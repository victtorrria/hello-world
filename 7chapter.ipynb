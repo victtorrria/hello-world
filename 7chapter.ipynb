{
  "nbformat": 4,
  "nbformat_minor": 0,
  "metadata": {
    "colab": {
      "name": "7chapter.ipynb",
      "provenance": [],
      "authorship_tag": "ABX9TyMwaeYn0srMkVVKr25Q1NKU",
      "include_colab_link": true
    },
    "kernelspec": {
      "name": "python3",
      "display_name": "Python 3"
    },
    "language_info": {
      "name": "python"
    }
  },
  "cells": [
    {
      "cell_type": "markdown",
      "metadata": {
        "id": "view-in-github",
        "colab_type": "text"
      },
      "source": [
        "<a href=\"https://colab.research.google.com/github/victtorrria/hello-world/blob/main/7chapter.ipynb\" target=\"_parent\"><img src=\"https://colab.research.google.com/assets/colab-badge.svg\" alt=\"Open In Colab\"/></a>"
      ]
    },
    {
      "cell_type": "markdown",
      "metadata": {
        "id": "iX0Z8WylPlVW"
      },
      "source": [
        "7.1 \n"
      ]
    },
    {
      "cell_type": "code",
      "metadata": {
        "colab": {
          "base_uri": "https://localhost:8080/"
        },
        "id": "MSQA6uMpKIKi",
        "outputId": "44f61d23-6062-421c-a331-2e0e729f2787"
      },
      "source": [
        "cars = input('What kind of rental car you would like?')\n",
        "print(\"Let me see if I can find you a \" + cars )"
      ],
      "execution_count": null,
      "outputs": [
        {
          "output_type": "stream",
          "name": "stdout",
          "text": [
            "What kind of rental car you would like?Subaru\n",
            "Let me see if I can find you a Subaru\n"
          ]
        }
      ]
    },
    {
      "cell_type": "markdown",
      "metadata": {
        "id": "QKN-HyqoUkvM"
      },
      "source": [
        "7.2"
      ]
    },
    {
      "cell_type": "code",
      "metadata": {
        "colab": {
          "base_uri": "https://localhost:8080/"
        },
        "id": "r2x3upNSKU9p",
        "outputId": "518627fe-2ee7-4521-f7f0-ea7ba10f3ab1"
      },
      "source": [
        "seatings = input(\"How many people are in their dinner group?\")\n",
        "seatings = int(seatings)\n",
        "if seatings >=8 :\n",
        "  print(\"You have to wait for a table\")\n",
        "else :\n",
        "  print(\"Your table is ready\")\n"
      ],
      "execution_count": null,
      "outputs": [
        {
          "output_type": "stream",
          "name": "stdout",
          "text": [
            "How many people are in their dinner group?10\n",
            "You have to wait for a table\n"
          ]
        }
      ]
    },
    {
      "cell_type": "markdown",
      "metadata": {
        "id": "RDyJ32F4Uma3"
      },
      "source": [
        "7.3"
      ]
    },
    {
      "cell_type": "code",
      "metadata": {
        "colab": {
          "base_uri": "https://localhost:8080/"
        },
        "id": "WhRm61hcS7sk",
        "outputId": "51f55a45-4781-448f-b3b4-9f22357c6fba"
      },
      "source": [
        "number = input('Tell me a number and I will tell you if it is multiple of 10 or not')\n",
        "number = int(number)\n",
        "if number % 10 == 0:\n",
        "  print('The number ' + str(number) + 'is multiple of 10. ')\n",
        "else:\n",
        "  print('The number ' + str(number) + 'is not multiple of 10. ')"
      ],
      "execution_count": null,
      "outputs": [
        {
          "output_type": "stream",
          "name": "stdout",
          "text": [
            "Tell me a number and I will tell you if it is multiple of 10 or not30\n",
            "The number 30is multiple of 10. \n"
          ]
        }
      ]
    },
    {
      "cell_type": "markdown",
      "metadata": {
        "id": "aQE5cKb-XT0w"
      },
      "source": [
        "7.4"
      ]
    },
    {
      "cell_type": "code",
      "metadata": {
        "colab": {
          "base_uri": "https://localhost:8080/"
        },
        "id": "C2zgNTiOUs9B",
        "outputId": "f62b09a4-aa9d-46ec-ec4e-51e725c93f97"
      },
      "source": [
        "prompt = \"Enter the name of the pizza topping, please. \"\n",
        "prompt += \"\\n Enter 'quit' if you are done. \"\n",
        "while True :\n",
        "  topping = input(prompt)\n",
        "  if topping == \"quit\" :\n",
        "    break\n",
        "  else :\n",
        "     print('I will add that topping to the pizza')\n"
      ],
      "execution_count": null,
      "outputs": [
        {
          "name": "stdout",
          "output_type": "stream",
          "text": [
            "Enter the name of the pizza topping, please. \n",
            " Enter 'quit' if you are done. cheese \n",
            "I will add that topping to the pizza\n",
            "Enter the name of the pizza topping, please. \n",
            " Enter 'quit' if you are done. ham\n",
            "I will add that topping to the pizza\n",
            "Enter the name of the pizza topping, please. \n",
            " Enter 'quit' if you are done. shrimps\n",
            "I will add that topping to the pizza\n",
            "Enter the name of the pizza topping, please. \n",
            " Enter 'quit' if you are done. quit\n"
          ]
        }
      ]
    },
    {
      "cell_type": "markdown",
      "metadata": {
        "id": "TMcoUznhZSI4"
      },
      "source": [
        "7.5\n"
      ]
    },
    {
      "cell_type": "code",
      "metadata": {
        "colab": {
          "base_uri": "https://localhost:8080/"
        },
        "id": "_IFU10-6XXo0",
        "outputId": "3a6c86cf-d686-4e5a-8dcb-e9a01ce83497"
      },
      "source": [
        "prompt = \"Enter your age, please. \"\n",
        "prompt += \"Enter 'quit' when you are done. \"\n",
        "while True :\n",
        "  age = input(prompt)\n",
        "  if age == \"quit\" :\n",
        "    break\n",
        "\n",
        "  age = int(age)\n",
        "\n",
        "  if age <3 :\n",
        "    print(\"The ticket is free\")\n",
        "  elif age<13 :\n",
        "    print(\"The ticket is $10\")\n",
        "  else:\n",
        "    print(\"The ticket is $15\")\n"
      ],
      "execution_count": null,
      "outputs": [
        {
          "name": "stdout",
          "output_type": "stream",
          "text": [
            "Enter your age, please. Enter 'quit' when you are done. 2\n",
            "The ticket is free\n",
            "Enter your age, please. Enter 'quit' when you are done. quit\n"
          ]
        }
      ]
    },
    {
      "cell_type": "markdown",
      "metadata": {
        "id": "W2FWbpnfhKN0"
      },
      "source": [
        "7.8"
      ]
    },
    {
      "cell_type": "code",
      "metadata": {
        "colab": {
          "base_uri": "https://localhost:8080/"
        },
        "id": "fSLwzWdeZa8z",
        "outputId": "044e2d58-9629-4436-d6dd-b78aaeeb6a9d"
      },
      "source": [
        "sandwich_orders = [\"cheese\", \"ham\", \"salmon\"]\n",
        "finished_sandwiches = []\n",
        "while sandwich_orders:\n",
        "  current_sandwich = sandwich_orders.pop()\n",
        "  print(f\"I'm working on your {current_sandwich} sandwich.\")\n",
        "  finished_sandwiches.append(current_sandwich)\n",
        "\n",
        "for sandwich in finished_sandwiches:\n",
        "  print(f\"I made a {sandwich} sandwich.\")"
      ],
      "execution_count": null,
      "outputs": [
        {
          "output_type": "stream",
          "name": "stdout",
          "text": [
            "I'm working on your salmon sandwich.\n",
            "I'm working on your ham sandwich.\n",
            "I'm working on your cheese sandwich.\n",
            "I made a salmon sandwich.\n",
            "I made a ham sandwich.\n",
            "I made a cheese sandwich.\n"
          ]
        }
      ]
    },
    {
      "cell_type": "markdown",
      "metadata": {
        "id": "HO0wdaWuhMSK"
      },
      "source": [
        "7.9"
      ]
    },
    {
      "cell_type": "code",
      "metadata": {
        "colab": {
          "base_uri": "https://localhost:8080/"
        },
        "id": "5_4kip5YgSoY",
        "outputId": "336e5561-8843-4f20-9d9c-9cf7273b99f7"
      },
      "source": [
        "sandwich_orders = ['pastrami', 'cheese', 'pastrami', 'ham', 'salmon', 'pastrami']\n",
        "finished_sandwiches = []\n",
        "\n",
        "print(\"I'm sorry, we're all out of pastrami today.\")\n",
        "while 'pastrami' in sandwich_orders:\n",
        "    sandwich_orders.remove('pastrami')\n",
        "\n",
        "while sandwich_orders:\n",
        "    current_sandwich = sandwich_orders.pop()\n",
        "    print(f\"I'm working on your {current_sandwich} sandwich.\")\n",
        "    finished_sandwiches.append(current_sandwich)\n",
        "\n",
        "for sandwich in finished_sandwiches:\n",
        "    print(f\"I made a {sandwich} sandwich.\")"
      ],
      "execution_count": null,
      "outputs": [
        {
          "output_type": "stream",
          "name": "stdout",
          "text": [
            "I'm sorry, we're all out of pastrami today.\n",
            "I'm working on your salmon sandwich.\n",
            "I'm working on your ham sandwich.\n",
            "I'm working on your cheese sandwich.\n",
            "I made a salmon sandwich.\n",
            "I made a ham sandwich.\n",
            "I made a cheese sandwich.\n"
          ]
        }
      ]
    }
  ]
}