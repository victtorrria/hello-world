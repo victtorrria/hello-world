{
  "nbformat": 4,
  "nbformat_minor": 0,
  "metadata": {
    "colab": {
      "name": "6chapter.ipynb",
      "provenance": [],
      "authorship_tag": "ABX9TyN5nZt7KzwpwRcK5hHi9U09",
      "include_colab_link": true
    },
    "kernelspec": {
      "name": "python3",
      "display_name": "Python 3"
    },
    "language_info": {
      "name": "python"
    }
  },
  "cells": [
    {
      "cell_type": "markdown",
      "metadata": {
        "id": "view-in-github",
        "colab_type": "text"
      },
      "source": [
        "<a href=\"https://colab.research.google.com/github/victtorrria/hello-world/blob/main/6chapter.ipynb\" target=\"_parent\"><img src=\"https://colab.research.google.com/assets/colab-badge.svg\" alt=\"Open In Colab\"/></a>"
      ]
    },
    {
      "cell_type": "markdown",
      "source": [
        "1."
      ],
      "metadata": {
        "id": "pgSisUETqjUZ"
      }
    },
    {
      "cell_type": "code",
      "execution_count": 1,
      "metadata": {
        "colab": {
          "base_uri": "https://localhost:8080/"
        },
        "id": "_wZL63R7pVTd",
        "outputId": "d4a5da66-a663-4f12-9f17-8d76bd96c3df"
      },
      "outputs": [
        {
          "output_type": "stream",
          "name": "stdout",
          "text": [
            "Paco\n",
            "Rabanne\n",
            "87\n",
            "Pasaia\n"
          ]
        }
      ],
      "source": [
        "person = {\n",
        "    'first_name': 'Paco',\n",
        "    'last_name': 'Rabanne',\n",
        "    'age': 87,\n",
        "    'city': 'Pasaia',\n",
        "}\n",
        "\n",
        "first_name = person['first_name']\n",
        "last_name = person['last_name']\n",
        "age = person['age']\n",
        "city = person['city']\n",
        "\n",
        "print(first_name)\n",
        "print(last_name)\n",
        "print(age)\n",
        "print(city)"
      ]
    },
    {
      "cell_type": "markdown",
      "source": [
        "2."
      ],
      "metadata": {
        "id": "nDhLAk39qrb-"
      }
    },
    {
      "cell_type": "code",
      "source": [
        "favorite_numbers = {\n",
        "    'Tokyo': 8,\n",
        "    'Nairobi': 3,\n",
        "    'Berlin': 7,\n",
        "    'Moscow': 4,\n",
        "    'Rio': 6,\n",
        "}\n",
        "\n",
        "for names in favorite_numbers.keys():\n",
        "    print(names)\n",
        "\n",
        "for numbers in favorite_numbers.values():\n",
        "    print(numbers)"
      ],
      "metadata": {
        "colab": {
          "base_uri": "https://localhost:8080/"
        },
        "id": "ssAlUq6HqGYQ",
        "outputId": "14668394-2c56-4b5a-f887-2e4a654f6523"
      },
      "execution_count": 2,
      "outputs": [
        {
          "output_type": "stream",
          "name": "stdout",
          "text": [
            "Tokyo\n",
            "Nairobi\n",
            "Berlin\n",
            "Moscow\n",
            "Rio\n",
            "8\n",
            "3\n",
            "7\n",
            "4\n",
            "6\n"
          ]
        }
      ]
    },
    {
      "cell_type": "markdown",
      "source": [
        "3."
      ],
      "metadata": {
        "id": "CacnkJRUquE-"
      }
    },
    {
      "cell_type": "code",
      "source": [
        "glossary = {\n",
        "    'python': 'the coding programe',\n",
        "    'cd' : 'change directory',\n",
        "    'rm': 'remove', \n",
        "    '..': 'going back to directory'\n",
        "}\n",
        "\n",
        "for words, meanings in glossary.items():\n",
        "    print(words + ': ' + meanings)"
      ],
      "metadata": {
        "colab": {
          "base_uri": "https://localhost:8080/"
        },
        "id": "eSD5IUyEqvG8",
        "outputId": "bd036393-33c6-4885-c0f9-8d24b130f1c8"
      },
      "execution_count": 4,
      "outputs": [
        {
          "output_type": "stream",
          "name": "stdout",
          "text": [
            "python: the coding programe\n",
            "cd: change directory\n",
            "rm: remove\n",
            "..: going back to directory\n"
          ]
        }
      ]
    },
    {
      "cell_type": "markdown",
      "source": [
        "4."
      ],
      "metadata": {
        "id": "GXrAH9UftNRD"
      }
    },
    {
      "cell_type": "code",
      "source": [
        "rivers = {\n",
        "    'Nile' : 'Egypt',\n",
        "    'Dunai' : 'Germany',\n",
        "    'Amazon' : 'Brazil',\n",
        "}\n",
        "\n",
        "for river, country in rivers.items():\n",
        "  print('the ' + river + ' runs through ' + country)\n",
        "  print(river)\n",
        "  print(country)"
      ],
      "metadata": {
        "colab": {
          "base_uri": "https://localhost:8080/"
        },
        "id": "u-twcNDptYs8",
        "outputId": "4be0c344-dedd-4c19-e8ae-85399ea5b638"
      },
      "execution_count": 7,
      "outputs": [
        {
          "output_type": "stream",
          "name": "stdout",
          "text": [
            "the Nile runs through Egypt\n",
            "Nile\n",
            "Egypt\n",
            "the Dunai runs through Germany\n",
            "Dunai\n",
            "Germany\n",
            "the Amazon runs through Brazil\n",
            "Amazon\n",
            "Brazil\n"
          ]
        }
      ]
    },
    {
      "cell_type": "markdown",
      "source": [
        "5."
      ],
      "metadata": {
        "id": "puqKJNlWvBlQ"
      }
    },
    {
      "cell_type": "code",
      "source": [
        "favorite_languages = {\n",
        "    'tato': 'python',\n",
        "    'sali': 'c',\n",
        "    'beka': 'ruby',\n",
        "    'vika': 'python',\n",
        "}\n",
        "\n",
        "for name in favorite_languages.keys():\n",
        "  print(name.title())\n",
        "\n",
        "new_people = {\n",
        "    'giorgi': 'java',\n",
        "    'sali': 'python',\n",
        "    'magda': 'c',\n",
        "    'beka': 'python'\n",
        "}\n",
        "\n",
        "for name in favorite_languages.keys():\n",
        "  print(name.title() + ', thank you for taking the poll.' )\n",
        "\n",
        "for new_person in new_people:\n",
        "    if new_person in favorite_languages:\n",
        "        print(new_person.title() + ', thank you for responding.')\n",
        "    else:\n",
        "        print(new_person.title() + ', we invite you to take poll.')"
      ],
      "metadata": {
        "colab": {
          "base_uri": "https://localhost:8080/"
        },
        "id": "5lE70bYLvC8Q",
        "outputId": "576f861e-c816-4f1f-96af-beccad9f2441"
      },
      "execution_count": 9,
      "outputs": [
        {
          "output_type": "stream",
          "name": "stdout",
          "text": [
            "Tato\n",
            "Sali\n",
            "Beka\n",
            "Vika\n",
            "Tato, thank you for taking the poll.\n",
            "Sali, thank you for taking the poll.\n",
            "Beka, thank you for taking the poll.\n",
            "Vika, thank you for taking the poll.\n",
            "Giorgi, we invite you to take poll.\n",
            "Sali, thank you for responding.\n",
            "Magda, we invite you to take poll.\n",
            "Beka, thank you for responding.\n"
          ]
        }
      ]
    },
    {
      "cell_type": "markdown",
      "source": [
        "6."
      ],
      "metadata": {
        "id": "Re-3GQKwzOV9"
      }
    },
    {
      "cell_type": "code",
      "source": [
        "pets = {\n",
        "    'Chaki': {\n",
        "        'animal': 'dog',\n",
        "        'owner': 'George',\n",
        "    },\n",
        "    'Luna': {\n",
        "        'animal': \"cat\",\n",
        "        'owner': 'Anastasia'\n",
        "    },\n",
        "}\n",
        "\n",
        "print(pets)"
      ],
      "metadata": {
        "colab": {
          "base_uri": "https://localhost:8080/"
        },
        "id": "__PTQ6KqzPhi",
        "outputId": "b3c47332-a7bc-462e-b221-e7366ec1756f"
      },
      "execution_count": 10,
      "outputs": [
        {
          "output_type": "stream",
          "name": "stdout",
          "text": [
            "{'Chaki': {'animal': 'dog', 'owner': 'George'}, 'Luna': {'animal': 'cat', 'owner': 'Anastasia'}}\n"
          ]
        }
      ]
    },
    {
      "cell_type": "markdown",
      "source": [
        "7."
      ],
      "metadata": {
        "id": "iizAevI30H3S"
      }
    },
    {
      "cell_type": "code",
      "source": [
        "favorite_places = {\n",
        "    'Mari': ['mountains', 'forests'],\n",
        "    'Vika': ['Bakuriani', 'with Mari'],\n",
        "    'Sali': ['with Vika'],\n",
        "}\n",
        "for name, places in favorite_places.items():\n",
        "  print(name + ': ')\n",
        "  for place in places:\n",
        "    print('- ' + place)"
      ],
      "metadata": {
        "colab": {
          "base_uri": "https://localhost:8080/"
        },
        "id": "Sjsozp5p0K4N",
        "outputId": "77963bc4-e087-4a36-fe6b-07a75cf361c1"
      },
      "execution_count": 11,
      "outputs": [
        {
          "output_type": "stream",
          "name": "stdout",
          "text": [
            "Mari: \n",
            "- mountains\n",
            "- forests\n",
            "Vika: \n",
            "- Bakuriani\n",
            "- with Mari\n",
            "Sali: \n",
            "- with Vika\n"
          ]
        }
      ]
    },
    {
      "cell_type": "markdown",
      "source": [
        "8."
      ],
      "metadata": {
        "id": "H6PX_dIh8Haw"
      }
    },
    {
      "cell_type": "code",
      "source": [
        "cities = {\n",
        "    'Istanbul': {\n",
        "        'country': 'Turkey',\n",
        "        'population': '15,5 million',\n",
        "        'fact': 'in the past known as Constantinople',\n",
        "    },\n",
        "    'Tbilisi': {\n",
        "        'country': 'Georgia',\n",
        "        'population': '1,5 million',\n",
        "        'fact': 'multinational city',\n",
        "    },\n",
        "    'Moscow': {\n",
        "        'country': 'Russia',\n",
        "        'population': '12,7 million',\n",
        "        'fact': 'the most populous and developed city in the country',\n",
        "    },\n",
        "}\n",
        "\n",
        "print(cities)"
      ],
      "metadata": {
        "colab": {
          "base_uri": "https://localhost:8080/"
        },
        "id": "HGTgxfu78Icx",
        "outputId": "e21c02e3-a007-46f9-b59f-56cd8504242f"
      },
      "execution_count": 12,
      "outputs": [
        {
          "output_type": "stream",
          "name": "stdout",
          "text": [
            "{'Istanbul': {'country': 'Turkey', 'population': '15,5 million', 'fact': 'in the past known as Constantinople'}, 'Tbilisi': {'country': 'Georgia', 'population': '1,5 million', 'fact': 'multinational city'}, 'Moscow': {'country': 'Russia', 'population': '12,7 million', 'fact': 'the most populous and developed city in the country'}}\n"
          ]
        }
      ]
    }
  ]
}